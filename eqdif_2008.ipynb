{
 "cells": [
  {
   "cell_type": "markdown",
   "id": "a96250f2",
   "metadata": {},
   "source": [
    "**Paper 2008 - Differential equations**"
   ]
  },
  {
   "cell_type": "code",
   "execution_count": 1,
   "id": "f0cedcdb",
   "metadata": {},
   "outputs": [],
   "source": [
    "import numpy as np\n",
    "from sympy import *\n",
    "import matplotlib.pyplot as plt\n",
    "from scipy.linalg import expm, sinm, cosm\n",
    "import csv"
   ]
  },
  {
   "cell_type": "code",
   "execution_count": 2,
   "id": "75896806",
   "metadata": {},
   "outputs": [],
   "source": [
    "N = 3 # number of oscillators\n",
    "k = 1. # coupling strength\n",
    "omega = 0.1\n",
    "gamma = omega*(N-1)/N\n",
    "\n",
    "# intrinsic angular frequencies\n",
    "w1 = 0.\n",
    "w2 = 0.\n",
    "w3 = 0.\n",
    "w = np.array([w1, w2, w3])*2.0*np.pi # vector with the intrinsic angular velocities \n",
    "\n",
    "A = np.array([[0, 1, 1],\n",
    "              [1, 0, 1],\n",
    "              [1, 1, 0]]) # adjacency matrix"
   ]
  },
  {
   "cell_type": "code",
   "execution_count": 3,
   "id": "425f99d8",
   "metadata": {},
   "outputs": [],
   "source": [
    "# Diff eqs for each variable: dy/dt = f(t, y)\n",
    "def der_R(t, R, alpha):\n",
    "    dR = np.zeros(len(R))\n",
    "    for i in range(len(R)):\n",
    "        dR[i] += -gamma*R[i]\n",
    "        for j in range(len(R)):\n",
    "            dR[i] += (omega/N)*A[i,j]*R[j]*np.cos(alpha[j]-alpha[i])      \n",
    "   \n",
    "    return dR\n",
    "\n",
    "def der_alpha(t, alpha, R):\n",
    "    dalpha = np.zeros(len(alpha))\n",
    "    for i in range(len(alpha)):\n",
    "        dalpha[i] += w[i]\n",
    "        for j in range(len(alpha)):\n",
    "            dalpha[i] += (omega/N)*A[i,j]*(R[j]/R[i])*np.sin(alpha[j]-alpha[i])\n",
    "    return dalpha"
   ]
  },
  {
   "cell_type": "code",
   "execution_count": 4,
   "id": "b52fdad2",
   "metadata": {},
   "outputs": [],
   "source": [
    "def rk4_multivariable_R(t, h, R0, alpha0):\n",
    "    R_rk4 = np.zeros(len(R0))\n",
    "    k1 = der_R(t, R0, alpha0)\n",
    "    k2 = der_R(t, R0+(h/2.)*k1, alpha0)\n",
    "    k3 = der_R(t, R0+(h/2.)*k2, alpha0)\n",
    "    k4 = der_R(t, R0+h*k3, alpha0)\n",
    "    R_rk4 = R0 + (h/6.)*(k1 + 2*k2 + 2*k3 + k4) \n",
    "    return R_rk4   \n",
    "\n",
    "def rk4_multivariable_alpha(t, h, alpha0, R0):\n",
    "    alpha_rk4 = np.zeros(len(alpha0))\n",
    "    k1 = der_alpha(t, alpha0, R0)\n",
    "    k2 = der_alpha(t, alpha0+(h/2.)*k1, R0)\n",
    "    k3 = der_alpha(t, alpha0+(h/2.)*k2, R0)\n",
    "    k4 = der_alpha(t, alpha0+h*k3, R0)\n",
    "    alpha_rk4 = alpha0 + (h/6.)*(k1 + 2*k2 + 2*k3 + k4)  \n",
    "    \n",
    "    for i in range(len(alpha_rk4)):        \n",
    "        # We limit the solution between -pi and pi   \n",
    "        if np.pi < alpha_rk4[i] < 2.*np.pi:\n",
    "            alpha_rk4[i] = alpha_rk4[i] - 2.*np.pi\n",
    "        if -2.*np.pi < alpha_rk4[i] < -np.pi:\n",
    "            alpha_rk4[i] = alpha_rk4[i] + 2.*np.pi         \n",
    "    return alpha_rk4   "
   ]
  },
  {
   "cell_type": "code",
   "execution_count": 5,
   "id": "dfc061a5",
   "metadata": {},
   "outputs": [],
   "source": [
    "file = open(\"results_2008.txt\", \"w\")\n",
    "writer = csv.writer(file, delimiter = ' ')\n",
    "\n",
    "\n",
    "# Initial conditions\n",
    "t0 = 0\n",
    "dt = 0.001\n",
    "steps = 100000\n",
    "\n",
    "R0 = np.array([1., 2., 1.25])  # t=0 (R1, R2, R3)\n",
    "alpha0 = np.array([1., -0.2, 0.5])*np.pi  # t=0 (alpha1, alpha2, alpha3)\n",
    "\n",
    "writer.writerow((t0, R0[0], R0[1], R0[2], alpha0[0], alpha0[1], alpha0[2]))\n",
    "\n",
    "# integration over time\n",
    "for n in range(1, steps):\n",
    "    t = t0 + n*dt # time\n",
    "    R = rk4_multivariable_R(t, dt, R0, alpha0) # vector with the solution of each time iteration\n",
    "    alpha = rk4_multivariable_alpha(t, dt, alpha0, R0) # vector with the solution of each time iteration\n",
    "    R0 = R\n",
    "    alpha0 = alpha\n",
    "   \n",
    "    writer.writerow((\"{:.4f}\".format(t), \"{:.6f}\".format(R[0]), \"{:.6f}\".format(R[1]), \"{:.6f}\".format(R[2]), \n",
    "                     \"{:.6f}\".format(alpha[0]), \"{:.6f}\".format(alpha[1]), \"{:.6f}\".format(alpha[2])))    \n",
    "file.close()   "
   ]
  },
  {
   "cell_type": "markdown",
   "id": "7a9737ae",
   "metadata": {},
   "source": [
    "**DATA PROCESSING**"
   ]
  },
  {
   "cell_type": "code",
   "execution_count": 6,
   "id": "e90729de",
   "metadata": {},
   "outputs": [],
   "source": [
    "N = 3 # number of oscillators\n",
    "steps = 100000\n",
    "\n",
    "time = np.zeros(steps)\n",
    "R = np.zeros((steps,N))\n",
    "alpha = np.zeros((steps,N))\n",
    "\n",
    "lines = 0 # counter\n",
    "with open(\"results_2008.txt\",\"r\") as file1:\n",
    "    for line in file1:\n",
    "        line = line.split(' ')\n",
    "        time[lines] = float(line[0])\n",
    "        R[lines]=line[1:4:]\n",
    "        alpha[lines]=line[4:7:]\n",
    "        lines+=1 "
   ]
  },
  {
   "cell_type": "code",
   "execution_count": 7,
   "id": "77182a73",
   "metadata": {},
   "outputs": [
    {
     "data": {
      "image/png": "[encoded data removed]",
      "text/plain": [
       "<Figure size 450x315 with 1 Axes>"
      ]
     },
     "metadata": {
      "needs_background": "light"
     },
     "output_type": "display_data"
    }
   ],
   "source": [
    "plt.figure(figsize=(5,3.5), dpi=90)\n",
    "\n",
    "plt.ylabel(r'$R_{i}$', fontsize=12)\n",
    "plt.xlabel('Time', fontsize=12)\n",
    "plt.plot(time, R[:,0] , label=r'$R_{1}$')  \n",
    "plt.plot(time, R[:,1] , label=r'$R_{2}$')  \n",
    "plt.plot(time, R[:,2] , label=r'$R_{3}$')  \n",
    "plt.legend(loc='upper right') #bbox_to_anchor=(1, 0.5)\n",
    "plt.xlim((0,100))\n",
    "plt.xticks(fontsize=10)\n",
    "plt.yticks(fontsize=10)\n",
    "\n",
    "plt.tight_layout()\n",
    "plt.savefig('Ri_2008.png')\n",
    "plt.show()"
   ]
  },
  {
   "cell_type": "code",
   "execution_count": 8,
   "id": "1dccb3a0",
   "metadata": {},
   "outputs": [
    {
     "data": {
      "image/png": "[encoded data removed]",
      "text/plain": [
       "<Figure size 450x315 with 1 Axes>"
      ]
     },
     "metadata": {
      "needs_background": "light"
     },
     "output_type": "display_data"
    }
   ],
   "source": [
    "plt.figure(figsize=(5,3.5), dpi=90)\n",
    "plt.ylabel(r'$\\theta_{i} \\ (rad)$', fontsize=12)\n",
    "plt.xlabel('Time', fontsize=12)\n",
    "plt.plot(time,alpha[:,0], label=r'$\\theta_{1}$')  \n",
    "plt.plot(time,alpha[:,1], label=r'$\\theta_{2}$') \n",
    "plt.plot(time,alpha[:,2], label=r'$\\theta_{3}$') \n",
    "plt.legend(loc='center left', bbox_to_anchor=(1, 0.5))\n",
    "plt.xlim((0,100))\n",
    "plt.xticks(fontsize=10)\n",
    "plt.yticks(fontsize=10)\n",
    "plt.savefig('linear_reform.png')\n",
    "plt.show()"
   ]
  },
  {
   "cell_type": "code",
   "execution_count": null,
   "id": "75edd478",
   "metadata": {},
   "outputs": [],
   "source": []
  }
 ],
 "metadata": {
  "kernelspec": {
   "display_name": "Python 3",
   "language": "python",
   "name": "python3"
  },
  "language_info": {
   "codemirror_mode": {
    "name": "ipython",
    "version": 3
   },
   "file_extension": ".py",
   "mimetype": "text/x-python",
   "name": "python",
   "nbconvert_exporter": "python",
   "pygments_lexer": "ipython3",
   "version": "3.8.8"
  }
 },
 "nbformat": 4,
 "nbformat_minor": 5
}
