{
 "cells": [
  {
   "cell_type": "markdown",
   "id": "33301624",
   "metadata": {},
   "source": [
    "**Kuramoto model - Lineal case**"
   ]
  },
  {
   "cell_type": "code",
   "execution_count": 1,
   "id": "07199863",
   "metadata": {},
   "outputs": [],
   "source": [
    "import numpy as np\n",
    "import matplotlib.pyplot as plt\n",
    "from scipy.optimize import curve_fit\n",
    "from scipy.stats import linregress\n",
    "import csv"
   ]
  },
  {
   "cell_type": "code",
   "execution_count": 2,
   "id": "d4c15ad5",
   "metadata": {},
   "outputs": [],
   "source": [
    "N = 3 # number of oscillators\n",
    "k = 1. # coupling strength\n",
    "\n",
    "# intrinsic angular frequencies\n",
    "w1 = 0.\n",
    "w2 = 0.\n",
    "w3 = 0.\n",
    "w = np.array([w1, w2, w3])*2.0*np.pi # vector with the intrinsic angular velocities \n",
    "\n",
    "A = np.array([[0, 1, 1],\n",
    "              [1, 0, 1],\n",
    "              [1, 1, 0]]) # adjacency matrix\n",
    "L = np.array([[2, -1, -1],\n",
    "              [-1, 2, -1],\n",
    "              [-1, -1 ,2]])"
   ]
  },
  {
   "cell_type": "code",
   "execution_count": 3,
   "id": "5dbb7206",
   "metadata": {},
   "outputs": [],
   "source": [
    "# Derivative of the function (dtheta/dt)\n",
    "def derivative(t, theta): # theta = (theta1, theta2, theta3,..., thetaN) [vector]\n",
    "    dtheta = np.zeros(len(theta))\n",
    "    dtheta += w\n",
    "    for i in range(len(theta)): # len(theta) = N\n",
    "        for j in range(len(theta)): \n",
    "                #dtheta[i] += k*A[i,j]*(theta[j]-theta[i])  \n",
    "                dtheta[i] += - k*L[i,j]*theta[j]\n",
    "    return dtheta  \n",
    "\n",
    "# Runge-Kutta 4 integration method\n",
    "def rk4_multivariable(t, h, theta0):\n",
    "    theta_rk4 = np.zeros(len(theta0))\n",
    "    k1 = derivative(t, theta0)\n",
    "    k2 = derivative(t, theta0+(h/2.)*k1)\n",
    "    k3 = derivative(t, theta0+(h/2.)*k2)\n",
    "    k4 = derivative(t, theta0+h*k3)\n",
    "    theta_rk4 = theta0 + (h/6.)*(k1 + 2*k2 + 2*k3 + k4)  \n",
    "    \n",
    "    for i in range(len(theta_rk4)):        \n",
    "        # We limit the solution between -pi and pi   \n",
    "        if np.pi < theta_rk4[i] < 2*np.pi:\n",
    "            theta_rk4[i] = theta_rk4[i] - 2*np.pi\n",
    "        if -np.pi < theta_rk4[i] < -2*np.pi:\n",
    "            theta_rk4[i] = theta_rk4[i] + 2*np.pi        \n",
    "    return theta_rk4               "
   ]
  },
  {
   "cell_type": "code",
   "execution_count": 4,
   "id": "dbabe8d2",
   "metadata": {},
   "outputs": [],
   "source": [
    "# Synchronization order parameter \n",
    "def sync_order_parameter(N, theta): #(at a given time t)\n",
    "    r_var = 0\n",
    "    for i in range(len(theta)):\n",
    "        r_var+=np.exp(1j*theta[i])\n",
    "    r_var = (1./float(N))*r_var\n",
    "    return r_var "
   ]
  },
  {
   "cell_type": "code",
   "execution_count": 5,
   "id": "85f7155c",
   "metadata": {},
   "outputs": [],
   "source": [
    "file = open(\"results_lineal.txt\", \"w\")\n",
    "writer = csv.writer(file, delimiter = ' ')\n",
    "\n",
    "# Initial conditions\n",
    "t0 = 0\n",
    "h = 0.0001 # delta t\n",
    "steps = 100000\n",
    "theta0 = np.array([0.1, -0.1, 0.2])*np.pi  # t=0 (theta1, theta2, theta3) - Values next to zero (convergence guarantee)\n",
    "order_p0 = abs(sync_order_parameter(N, theta0))\n",
    "\n",
    "writer.writerow((t0, theta0[0], theta0[1], theta0[2], order_p0))\n",
    "\n",
    "# integration over time\n",
    "for n in range(1, steps):\n",
    "    t = t0 + n*h # time\n",
    "    theta = rk4_multivariable(t, h, theta0) # vector with the solution of each time iteration\n",
    "    theta0 = theta\n",
    "    r = abs(sync_order_parameter(N, theta)) # modulus of the sync order parameter\n",
    "    \n",
    "    if n%10==0:\n",
    "        writer.writerow((\"{:.4f}\".format(t), \"{:.12f}\".format(theta[0]), \"{:.12f}\".format(theta[1]), \"{:.12f}\".format(theta[2]), \"{:.12f}\".format(r)))\n",
    "\n",
    "file.close()    "
   ]
  },
  {
   "cell_type": "markdown",
   "id": "4dbc362a",
   "metadata": {},
   "source": [
    "**DATA PROCESSING**"
   ]
  },
  {
   "cell_type": "code",
   "execution_count": 2,
   "id": "95c4ee64",
   "metadata": {},
   "outputs": [],
   "source": [
    "N = 3 # number of oscillators\n",
    "steps = 10000\n",
    "\n",
    "time = np.zeros(steps)\n",
    "theta = np.zeros((steps,N))\n",
    "order_p = np.zeros(steps)\n",
    "\n",
    "lines = 0 # counter\n",
    "with open(\"results_lineal.txt\",\"r\") as file2:\n",
    "    for line in file2:\n",
    "        line = line.split(' ')\n",
    "        time[lines] = float(line[0])\n",
    "        theta[lines]=line[1:4:]\n",
    "        order_p[lines] = line[4]\n",
    "        lines+=1 "
   ]
  },
  {
   "cell_type": "code",
   "execution_count": 83,
   "id": "b464e0f8",
   "metadata": {},
   "outputs": [
    {
     "name": "stderr",
     "output_type": "stream",
     "text": [
      "<ipython-input-83-2de28a59547a>:29: UserWarning: This figure includes Axes that are not compatible with tight_layout, so results might be incorrect.\n",
      "  plt.tight_layout()\n",
      "<ipython-input-83-2de28a59547a>:32: UserWarning: Matplotlib is currently using module://ipykernel.pylab.backend_inline, which is a non-GUI backend, so cannot show the figure.\n",
      "  fig.show()\n"
     ]
    },
    {
     "data": {
      "image/png": "[encoded data removed]",
      "text/plain": [
       "<Figure size 450x315 with 2 Axes>"
      ]
     },
     "metadata": {
      "needs_background": "light"
     },
     "output_type": "display_data"
    }
   ],
   "source": [
    "fig, ax1 = plt.subplots(figsize=(5,3.5), dpi=90)\n",
    "ax1.plot(time,theta[:,0], label=r'$\\theta_{1}$')  \n",
    "ax1.plot(time,theta[:,1], label=r'$\\theta_{2}$') \n",
    "ax1.plot(time,theta[:,2], label=r'$\\theta_{3}$') \n",
    "plt.ylabel(r'$\\theta_{i} \\ (rad)$', fontsize=12)\n",
    "plt.xlabel('Time', fontsize=12)\n",
    "ax1.legend(loc='upper right') #bbox_to_anchor=(1, 0.5)\n",
    "plt.ylim((-np.pi, np.pi))\n",
    "plt.xlim((0,5))\n",
    "\n",
    "plt.xticks(fontsize=10)\n",
    "plt.yticks(fontsize=10)\n",
    "\n",
    "plt.tight_layout()\n",
    "\n",
    "left, bottom, width, height = [0.55, 0.3, 0.3, 0.27]\n",
    "ax2 = fig.add_axes([left, bottom, width, height])\n",
    "\n",
    "ax2.plot(time,theta[:,0], label=r'$\\theta_{1}$')\n",
    "ax2.plot(time,theta[:,1], label=r'$\\theta_{2}$') \n",
    "ax2.plot(time,theta[:,2], label=r'$\\theta_{3}$') \n",
    "plt.xlim((0,1.5))\n",
    "plt.ylabel(r'$\\theta_{i} \\ (rad)$', fontsize=8)\n",
    "plt.xlabel('Time', fontsize=8)\n",
    "plt.xticks(fontsize=8)\n",
    "plt.yticks(fontsize=8)\n",
    "\n",
    "\n",
    "plt.tight_layout()\n",
    "\n",
    "fig.savefig('lineal.png')\n",
    "fig.show()"
   ]
  },
  {
   "cell_type": "code",
   "execution_count": 8,
   "id": "c036a603",
   "metadata": {},
   "outputs": [
    {
     "data": {
      "image/png": "[encoded data removed]",
      "text/plain": [
       "<Figure size 432x288 with 1 Axes>"
      ]
     },
     "metadata": {
      "needs_background": "light"
     },
     "output_type": "display_data"
    }
   ],
   "source": [
    "plt.figure()\n",
    "plt.ylabel('Order parameter')\n",
    "plt.xlabel('Time (s)')\n",
    "plt.plot(time,order_p,'x')  \n",
    "plt.savefig('order_p_lineal.png')\n",
    "plt.show()"
   ]
  },
  {
   "cell_type": "markdown",
   "id": "2f6216f6",
   "metadata": {},
   "source": [
    "Phase difference"
   ]
  },
  {
   "cell_type": "code",
   "execution_count": 12,
   "id": "c1136ad4",
   "metadata": {},
   "outputs": [],
   "source": [
    "delta_theta_lin = np.zeros(steps)\n",
    "for t in range(len(time)):\n",
    "    delta_lin = 0\n",
    "    for i in range(N-1):\n",
    "        for j in range(i+1, N):\n",
    "            difference = theta[t][j]-theta[t][i]\n",
    "            checker = (int(difference/np.pi) - int(difference/(2.0*np.pi)))*2.0*np.pi\n",
    "            #print(checker)\n",
    "            delta_lin += (difference-checker)*(difference-checker)\n",
    "    delta_lin = (1./float(N))*delta_lin\n",
    "    delta_theta_lin[t] = delta_lin "
   ]
  },
  {
   "cell_type": "code",
   "execution_count": 13,
   "id": "a8af503a",
   "metadata": {},
   "outputs": [],
   "source": [
    "delta_theta_lin = np.zeros(steps)\n",
    "delta_theta_aux = np.zeros(3)\n",
    "delta_theta_dev = np.zeros(steps)\n",
    "for t in range(len(time)):\n",
    "    delta_lin = 0.\n",
    "    delta_theta_aux[:]=0.\n",
    "    for i in range(N-1):\n",
    "        for j in range(i+1, N):\n",
    "            difference = theta[t][i]-theta[t][j]\n",
    "            checker = (int(difference/np.pi) - int(difference/(2.0*np.pi)))*2.0*np.pi\n",
    "            #print(checker)\n",
    "            delta_theta_aux[i+j-1]=(difference-checker)*(difference-checker)\n",
    "            delta_lin += (difference-checker)*(difference-checker)\n",
    "    delta_lin = (1./float(N))*delta_lin\n",
    "    delta_theta_lin[t] = delta_lin \n",
    "    delta_theta_dev[t] = np.std(delta_theta_aux)"
   ]
  },
  {
   "cell_type": "code",
   "execution_count": 84,
   "id": "dbe1f48b",
   "metadata": {},
   "outputs": [
    {
     "data": {
      "image/png": "[encoded data removed]",
      "text/plain": [
       "<Figure size 450x315 with 1 Axes>"
      ]
     },
     "metadata": {
      "needs_background": "light"
     },
     "output_type": "display_data"
    },
    {
     "name": "stdout",
     "output_type": "stream",
     "text": [
      "y = ax + b\n",
      "a = -6.00000000000157 , b = 0.46058153871763263 a_err = [ 2.04272183e-26 -7.79338519e-28] b_err= [-7.79338519e-28  5.98255414e-29]\n"
     ]
    }
   ],
   "source": [
    "# log-lin scale\n",
    "\n",
    "def g(x,a,b):\n",
    "    return b*np.exp(a*x)\n",
    "\n",
    "x = time #[time[i] for i in range(0,len(time),5)]\n",
    "y = delta_theta_lin\n",
    "fit, cov2 = curve_fit(g,x,y)\n",
    "\n",
    "plt.figure(figsize=(5,3.5), dpi=90)\n",
    "plt.ylabel(r'$\\left<(\\theta_{i}(t) - \\theta_{j}(t))^{2}\\right>$ (rad$^{2}$)', fontsize=12)\n",
    "plt.xlabel('Time', fontsize=12)\n",
    "plt.yscale('log')\n",
    "plt.plot(x, y, '.')\n",
    "plt.plot(x, g(x, fit[0], fit[1]), '--', label=r'Fitting: $\\left<(\\theta_i (t) - \\theta_j (t))^2 \\right> \\approx$ {:.3f}·exp({:.3f}·t)'.format(fit[1],fit[0]))\n",
    "\n",
    "plt.xlim([0,5])\n",
    "plt.ylim([10**(-16),1])\n",
    "\n",
    "plt.xticks(fontsize=10)\n",
    "plt.yticks(fontsize=10)\n",
    "\n",
    "#plt.fill_between(x, y - delta_theta_dev, y + delta_theta_dev,color='blue', alpha=0.1)\n",
    "\n",
    "plt.legend()\n",
    "plt.tight_layout()\n",
    "plt.savefig('delta_theta_lin.png')\n",
    "plt.show()\n",
    "\n",
    "print('y = ax + b')\n",
    "print('a =',fit[0],',','b =', fit[1],'a_err =',cov2[0] ,'b_err=',cov2[1])\n",
    "\n",
    "#La desv. stand. disminueix de la mateixa manera que ho fa wl valor mitjà.Anar amb compte amb eixos ja que distàncies iguals en cartesianes no és log."
   ]
  },
  {
   "cell_type": "code",
   "execution_count": null,
   "id": "734baa18",
   "metadata": {},
   "outputs": [],
   "source": []
  }
 ],
 "metadata": {
  "kernelspec": {
   "display_name": "Python 3",
   "language": "python",
   "name": "python3"
  },
  "language_info": {
   "codemirror_mode": {
    "name": "ipython",
    "version": 3
   },
   "file_extension": ".py",
   "mimetype": "text/x-python",
   "name": "python",
   "nbconvert_exporter": "python",
   "pygments_lexer": "ipython3",
   "version": "3.8.8"
  }
 },
 "nbformat": 4,
 "nbformat_minor": 5
}
