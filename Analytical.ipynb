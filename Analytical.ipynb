{
 "cells": [
  {
   "cell_type": "markdown",
   "id": "1ebebce1",
   "metadata": {},
   "source": [
    "**Kuramoto model - Analytical solution**"
   ]
  },
  {
   "cell_type": "code",
   "execution_count": 1,
   "id": "8affcbf1",
   "metadata": {},
   "outputs": [],
   "source": [
    "import numpy as np\n",
    "from sympy import *\n",
    "import matplotlib.pyplot as plt\n",
    "from scipy.linalg import expm, sinm, cosm\n",
    "import csv"
   ]
  },
  {
   "cell_type": "code",
   "execution_count": 2,
   "id": "53398ae0",
   "metadata": {},
   "outputs": [],
   "source": [
    "N = 3 # number of oscillators\n",
    "\n",
    "k = 1. # coupling strength\n",
    "gamma = (2.*k)/np.pi # rescaling constant\n",
    "\n",
    "# intrinsic angular frequencies\n",
    "w1 = 0.\n",
    "w2 = 0.\n",
    "w3 = 0.\n",
    "w = np.array([w1, w2, w3])*(2.0*np.pi) # vector with the intrinsic angular velocity \n",
    "\n",
    "A = Matrix([[0, 1, 1],\n",
    "            [1, 0, 1],\n",
    "            [1, 1, 0]]) # adjacency matrix\n",
    "\n",
    "V, D = A.diagonalize()\n",
    "\n",
    "A=np.array(A, dtype=np.complex128)\n",
    "V=np.array(V, dtype=np.complex128) # base change matrix\n",
    "D=np.array(D, dtype=np.complex128) # diagonal matrix"
   ]
  },
  {
   "cell_type": "code",
   "execution_count": 3,
   "id": "5a77e498",
   "metadata": {},
   "outputs": [],
   "source": [
    "# solution of the equation for the variable x = exp(itheta)\n",
    "def variable_x(x0, w, t, V ,D):\n",
    "    x_func = np.dot(np.dot(V, expm((np.diag(1j*w) + gamma*D)*t)), np.dot(np.linalg.inv(V), x0)) \n",
    "    return x_func"
   ]
  },
  {
   "cell_type": "code",
   "execution_count": 4,
   "id": "c1ac4b29",
   "metadata": {},
   "outputs": [],
   "source": [
    "# Synchronization order parameter \n",
    "def sync_order_parameter(N, theta): #(at a given time t)\n",
    "    r_var = 0\n",
    "    for i in range(len(theta)):\n",
    "        for j in range(len(theta)):\n",
    "        #r_var+=np.exp(1j*theta[i])\n",
    "            r_var += np.cos(theta[j]-theta[i])\n",
    "    r_var = (1./float(N*N))*r_var\n",
    "    return r_var    "
   ]
  },
  {
   "cell_type": "code",
   "execution_count": 5,
   "id": "adc38038",
   "metadata": {
    "scrolled": true
   },
   "outputs": [
    {
     "name": "stdout",
     "output_type": "stream",
     "text": [
      "[ 3.14159265+0.j -0.62831853+0.j  1.57079633+0.j]\n"
     ]
    }
   ],
   "source": [
    "file = open(\"results_analytical.txt\", \"w\")\n",
    "writer = csv.writer(file, delimiter=' ')\n",
    "\n",
    "# Initial conditions\n",
    "t0 = 0\n",
    "dt = 0.0001\n",
    "steps = 100000\n",
    "\n",
    "theta0 = np.array([1.+0j, -0.2+0j, 0.5+0j])*np.pi # t=0 (theta1, theta2, theta3)\n",
    "print(theta0)\n",
    "x0 = np.exp(1j* theta0) # change of variables\n",
    "\n",
    "for n in range(steps): \n",
    "    t = t0 + n*dt # time\n",
    "    x = variable_x(x0, w, t, V ,D)\n",
    "    theta = (np.arctan2(np.imag(x), np.real(x))) # vector with the solution of each time iteration \n",
    "    r = np.sqrt(sync_order_parameter(N, theta)) # modulus of the sync order parameter\n",
    "\n",
    "    \n",
    "    writer.writerow((\"{:.4f}\".format(t), \n",
    "                         \"{:.6f}\".format(theta[0]), \"{:.6f}\".format(theta[1]), \"{:.6f}\".format(theta[2]),\n",
    "                         \"{:.6f}\".format(r)))\n",
    "\n",
    "file.close()"
   ]
  },
  {
   "cell_type": "markdown",
   "id": "f6b17828",
   "metadata": {},
   "source": [
    "**DATA PROCESSING**"
   ]
  },
  {
   "cell_type": "code",
   "execution_count": 6,
   "id": "2a462275",
   "metadata": {},
   "outputs": [],
   "source": [
    "N = 3 # number of oscillators\n",
    "steps = 100000\n",
    "\n",
    "time = np.zeros(steps)\n",
    "theta = np.zeros((steps,N))\n",
    "order_p = np.zeros(steps)\n",
    "\n",
    "lines = 0 # counter\n",
    "with open(\"results_analytical.txt\",\"r\") as file1:\n",
    "    for line in file1:\n",
    "        line = line.split(' ')\n",
    "        time[lines] = float(line[0])\n",
    "        theta[lines]=line[1:4:]\n",
    "        order_p[lines]=line[4]\n",
    "        lines+=1              "
   ]
  },
  {
   "cell_type": "code",
   "execution_count": 7,
   "id": "d7a4bf97",
   "metadata": {},
   "outputs": [
    {
     "data": {
      "image/png": "[encoded data removed]",
      "text/plain": [
       "<Figure size 450x315 with 1 Axes>"
      ]
     },
     "metadata": {
      "needs_background": "light"
     },
     "output_type": "display_data"
    }
   ],
   "source": [
    "plt.figure(figsize=(5,3.5), dpi=90)\n",
    "plt.ylabel(r'$\\theta_{i} \\ (rad)$', fontsize=12)\n",
    "plt.xlabel('Time ', fontsize=12)\n",
    "plt.plot(time,theta[:,0], label=r'$\\theta_{1}$')  \n",
    "plt.plot(time,theta[:,1], label=r'$\\theta_{2}$') \n",
    "plt.plot(time,theta[:,2], label=r'$\\theta_{3}$') \n",
    "plt.legend(loc='lower right') #bbox_to_anchor=(1, 0.5)\n",
    "plt.ylim((-np.pi, np.pi))\n",
    "plt.xlim((0,5))\n",
    "\n",
    "plt.xticks(fontsize=10)\n",
    "plt.yticks(fontsize=10)\n",
    "\n",
    "plt.tight_layout()\n",
    "plt.savefig('analytical.png')\n",
    "plt.show()"
   ]
  },
  {
   "cell_type": "code",
   "execution_count": 8,
   "id": "32933fa0",
   "metadata": {},
   "outputs": [
    {
     "data": {
      "image/png": "[encoded data removed]",
      "text/plain": [
       "<Figure size 450x315 with 1 Axes>"
      ]
     },
     "metadata": {
      "needs_background": "light"
     },
     "output_type": "display_data"
    }
   ],
   "source": [
    "plt.figure(figsize=(5,3.5), dpi=90)\n",
    "plt.ylabel('Order parameter', fontsize=12)\n",
    "plt.xlabel('Time', fontsize=12)\n",
    "plt.plot(time,order_p,'x')  \n",
    "plt.xlim((0,5))\n",
    "\n",
    "plt.xticks(fontsize=10)\n",
    "plt.yticks(fontsize=10)\n",
    "\n",
    "plt.tight_layout()\n",
    "plt.savefig('order_p_ana.png')\n",
    "plt.show()"
   ]
  },
  {
   "cell_type": "code",
   "execution_count": null,
   "id": "4ba97134",
   "metadata": {},
   "outputs": [],
   "source": []
  }
 ],
 "metadata": {
  "kernelspec": {
   "display_name": "Python 3",
   "language": "python",
   "name": "python3"
  },
  "language_info": {
   "codemirror_mode": {
    "name": "ipython",
    "version": 3
   },
   "file_extension": ".py",
   "mimetype": "text/x-python",
   "name": "python",
   "nbconvert_exporter": "python",
   "pygments_lexer": "ipython3",
   "version": "3.8.8"
  }
 },
 "nbformat": 4,
 "nbformat_minor": 5
}
