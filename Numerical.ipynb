{
 "cells": [
  {
   "cell_type": "markdown",
   "id": "33301624",
   "metadata": {},
   "source": [
    "**Kuramoto model - Numerical solution**"
   ]
  },
  {
   "cell_type": "code",
   "execution_count": 1,
   "id": "07199863",
   "metadata": {},
   "outputs": [],
   "source": [
    "import numpy as np\n",
    "import matplotlib.pyplot as plt\n",
    "import csv"
   ]
  },
  {
   "cell_type": "code",
   "execution_count": 2,
   "id": "d4c15ad5",
   "metadata": {},
   "outputs": [],
   "source": [
    "N = 3 # number of oscillators\n",
    "k = 1. # coupling strength\n",
    "\n",
    "# intrinsic angular frequencies\n",
    "w1 = 0.\n",
    "w2 = 0.\n",
    "w3 = 0.\n",
    "w = np.array([w1, w2, w3])*2.0*np.pi # vector with the intrinsic angular velocities \n",
    "\n",
    "A = np.array([[0, 1, 1],\n",
    "              [1, 0, 1],\n",
    "              [1, 1, 0]]) # adjacency matrix"
   ]
  },
  {
   "cell_type": "code",
   "execution_count": 3,
   "id": "5dbb7206",
   "metadata": {},
   "outputs": [],
   "source": [
    "# Derivative of the function (dtheta/dt)\n",
    "def derivative(t, theta): # theta = (theta1, theta2, theta3,..., thetaN) [vector]\n",
    "    dtheta = np.zeros(len(theta))\n",
    "    dtheta += w\n",
    "    for i in range(len(theta)): # len(theta) = N\n",
    "        for j in range(len(theta)):          \n",
    "                dtheta[i] += k * A[i,j]*np.sin(theta[j]-theta[i])   \n",
    "    return dtheta  \n",
    "\n",
    "# Runge-Kutta 4 integration method\n",
    "def rk4_multivariable(t, h, theta0):\n",
    "    theta_rk4 = np.zeros(len(theta0))\n",
    "    k1 = derivative(t, theta0)\n",
    "    k2 = derivative(t, theta0+(h/2.)*k1)\n",
    "    k3 = derivative(t, theta0+(h/2.)*k2)\n",
    "    k4 = derivative(t, theta0+h*k3)\n",
    "    theta_rk4 = theta0 + (h/6.)*(k1 + 2*k2 + 2*k3 + k4)  \n",
    "    \n",
    "    for i in range(len(theta_rk4)):        \n",
    "        # We limit the solution between -pi and pi   \n",
    "        if np.pi < theta_rk4[i] < 2*np.pi:\n",
    "            theta_rk4[i] = theta_rk4[i] - 2*np.pi\n",
    "        if -np.pi < theta_rk4[i] < -2*np.pi:\n",
    "            theta_rk4[i] = theta_rk4[i] + 2*np.pi         \n",
    "    return theta_rk4               "
   ]
  },
  {
   "cell_type": "code",
   "execution_count": 4,
   "id": "376772bb",
   "metadata": {},
   "outputs": [],
   "source": [
    "# Synchronization order parameter \n",
    "def sync_order_parameter(N, theta): #(at a given time t)\n",
    "    r_var = 0\n",
    "    for i in range(len(theta)):\n",
    "        r_var+=np.exp(1j*theta[i])\n",
    "    r_var = (1./float(N))*r_var\n",
    "    return r_var   "
   ]
  },
  {
   "cell_type": "markdown",
   "id": "1d37058c",
   "metadata": {},
   "source": [
    "**DATA PROCESSING**"
   ]
  },
  {
   "cell_type": "code",
   "execution_count": 5,
   "id": "85f7155c",
   "metadata": {},
   "outputs": [],
   "source": [
    "file = open(\"results_numerical.txt\", \"w\")\n",
    "writer = csv.writer(file, delimiter = ' ')\n",
    "\n",
    "# Initial conditions\n",
    "t0 = 0\n",
    "h = 0.0001 # delta t\n",
    "steps = 100000\n",
    "theta0 = np.array([1., -0.2, 0.5])*np.pi  # t=0 (theta1, theta2, theta3)\n",
    "order_p0 = abs(sync_order_parameter(N, theta0))\n",
    "\n",
    "writer.writerow((t0, theta0[0], theta0[1], theta0[2], order_p0))\n",
    "\n",
    "# integration over time\n",
    "for n in range(1, steps):\n",
    "    t = t0 + n*h # time\n",
    "    theta = rk4_multivariable(t, h, theta0) # vector with the solution of each time iteration\n",
    "    theta0 = theta\n",
    "    r = abs(sync_order_parameter(N, theta)) # modulus of the sync order parameter\n",
    "    \n",
    "    writer.writerow((\"{:.4f}\".format(t), \"{:.6f}\".format(theta[0]), \"{:.6f}\".format(theta[1]), \"{:.6f}\".format(theta[2]), \"{:.6f}\".format(r)))\n",
    "\n",
    "file.close()    "
   ]
  },
  {
   "cell_type": "code",
   "execution_count": 6,
   "id": "b62f1121",
   "metadata": {},
   "outputs": [],
   "source": [
    "N = 3 # number of oscillators\n",
    "steps = 100000\n",
    "\n",
    "time = np.zeros(steps)\n",
    "theta = np.zeros((steps,N))\n",
    "order_p = np.zeros(steps)\n",
    "\n",
    "lines = 0 # counter\n",
    "with open(\"results_numerical.txt\",\"r\") as file1:\n",
    "    for line in file1:\n",
    "        line = line.split(' ')\n",
    "        time[lines] = float(line[0])\n",
    "        theta[lines]=line[1:4:]\n",
    "        order_p[lines]=line[4]\n",
    "        lines+=1 "
   ]
  },
  {
   "cell_type": "code",
   "execution_count": 7,
   "id": "a4760bb9",
   "metadata": {},
   "outputs": [
    {
     "data": {
      "image/png": "[encoded data removed]",
      "text/plain": [
       "<Figure size 450x315 with 1 Axes>"
      ]
     },
     "metadata": {
      "needs_background": "light"
     },
     "output_type": "display_data"
    }
   ],
   "source": [
    "plt.figure(figsize=(5,3.5), dpi=90)\n",
    "plt.ylabel(r'$\\theta_{i} \\ (rad)$', fontsize=12)\n",
    "plt.xlabel('Time', fontsize=12)\n",
    "plt.plot(time,theta[:,0], label=r'$\\theta_{1}$')  \n",
    "plt.plot(time,theta[:,1], label=r'$\\theta_{2}$') \n",
    "plt.plot(time,theta[:,2], label=r'$\\theta_{3}$') \n",
    "plt.legend(loc='lower right') #bbox_to_anchor=(1, 0.5)\n",
    "plt.ylim((-np.pi, np.pi))\n",
    "plt.xlim((0,5))\n",
    "plt.xticks(fontsize=10)\n",
    "plt.yticks(fontsize=10)\n",
    "\n",
    "plt.tight_layout()\n",
    "plt.savefig('numerical.png')\n",
    "plt.show()"
   ]
  },
  {
   "cell_type": "code",
   "execution_count": 10,
   "id": "95c4ee64",
   "metadata": {},
   "outputs": [
    {
     "data": {
      "image/png": "[encoded data removed]",
      "text/plain": [
       "<Figure size 450x315 with 1 Axes>"
      ]
     },
     "metadata": {
      "needs_background": "light"
     },
     "output_type": "display_data"
    }
   ],
   "source": [
    "plt.figure(figsize=(5,3.5), dpi=90)\n",
    "plt.ylabel('Order parameter', fontsize=12)\n",
    "plt.xlabel('Time (s)', fontsize=12)\n",
    "plt.plot(time,order_p,'x')  \n",
    "plt.xlim((0,5))\n",
    "plt.xticks(fontsize=10)\n",
    "plt.yticks(fontsize=10)\n",
    "plt.tight_layout()\n",
    "plt.savefig('order_p_num.png')\n",
    "plt.show()"
   ]
  },
  {
   "cell_type": "code",
   "execution_count": null,
   "id": "72c7cb55",
   "metadata": {},
   "outputs": [],
   "source": []
  }
 ],
 "metadata": {
  "kernelspec": {
   "display_name": "Python 3",
   "language": "python",
   "name": "python3"
  },
  "language_info": {
   "codemirror_mode": {
    "name": "ipython",
    "version": 3
   },
   "file_extension": ".py",
   "mimetype": "text/x-python",
   "name": "python",
   "nbconvert_exporter": "python",
   "pygments_lexer": "ipython3",
   "version": "3.8.8"
  }
 },
 "nbformat": 4,
 "nbformat_minor": 5
}
