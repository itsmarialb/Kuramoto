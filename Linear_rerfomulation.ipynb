{
 "cells": [
  {
   "cell_type": "markdown",
   "id": "7302085c",
   "metadata": {},
   "source": [
    "**Kuramoto model - Paper 2008**"
   ]
  },
  {
   "cell_type": "code",
   "execution_count": 1,
   "id": "c6ef10cd",
   "metadata": {},
   "outputs": [],
   "source": [
    "import numpy as np\n",
    "from sympy import *\n",
    "from numpy.linalg import eig\n",
    "import matplotlib.pyplot as plt\n",
    "import csv"
   ]
  },
  {
   "cell_type": "code",
   "execution_count": 2,
   "id": "d882ea7c",
   "metadata": {},
   "outputs": [],
   "source": [
    "# Synchronization order parameter \n",
    "def sync_order_parameter(N, theta): #(at a given time t)\n",
    "    r_var = 0\n",
    "    for i in range(len(theta)):\n",
    "        r_var+=np.exp(1j*theta[i])\n",
    "    r_var = (1./float(N))*r_var\n",
    "    return r_var "
   ]
  },
  {
   "cell_type": "code",
   "execution_count": 3,
   "id": "5924ac8e",
   "metadata": {},
   "outputs": [
    {
     "name": "stdout",
     "output_type": "stream",
     "text": [
      "eigenvalues [-1.00000000e+00 -5.68558955e-17 -1.00000000e+00]\n",
      "eigenvectors [[-0.81649658  0.57735027  0.02445779]\n",
      " [ 0.40824829  0.57735027 -0.71901837]\n",
      " [ 0.40824829  0.57735027  0.69456058]]\n",
      "lambdas [-1.00000000e+00 -1.00000000e+00 -5.68558955e-17]\n",
      "v [[-1.  1.  1.]\n",
      " [ 1.  1. -1.]\n",
      " [ 1.  1.  1.]]\n",
      "Psi0 [-1.00000000e+00+1.22464680e-16j  8.09016994e-01-5.87785252e-01j\n",
      "  6.12323400e-17+1.00000000e+00j]\n",
      "A [[-1.  1.  1.]\n",
      " [ 1.  1.  1.]\n",
      " [ 1. -1.  1.]]\n",
      "b [-1.00000000e+00+1.22464680e-16j  8.09016994e-01-5.87785252e-01j\n",
      "  6.12323400e-17+1.00000000e+00j]\n",
      "a [ 0.9045085-0.29389263j  0.4045085-0.79389263j -0.5      +0.5j       ]\n"
     ]
    }
   ],
   "source": [
    "N = 3\n",
    "omega = 1.\n",
    "gamma = omega*(N-1)/N\n",
    "\n",
    "M = np.array([[-gamma, omega/N, omega/N],\n",
    "            [omega/N, -gamma, omega/N],\n",
    "            [omega/N, omega/N, -gamma]])\n",
    "\n",
    "eigenvalues,eigenvectors=eig(M)\n",
    "print(\"eigenvalues\",eigenvalues)\n",
    "print(\"eigenvectors\",eigenvectors)\n",
    "\n",
    "v = np.array(eigenvectors)\n",
    "for i in range(N):\n",
    "    v[i]=v[i]/np.absolute(v[i])\n",
    "\n",
    "lambdas = np.array(eigenvalues)\n",
    "lambdas.sort()\n",
    "theta0 = np.array([1.0,-0.2,0.5])*np.pi\n",
    "psi0 = np.cos(theta0)+1j*np.sin(theta0)\n",
    "\n",
    "print(\"lambdas\",lambdas)\n",
    "print(\"v\",v)\n",
    "print(\"Psi0\",psi0)\n",
    "    \n",
    "# Resolver ecuaciones lineales\n",
    "from scipy import linalg\n",
    "\n",
    "# Ax = b\n",
    "# v1_x * a1 + v2_x * a2 + v3_x * xa3 = psi1\n",
    "# v1_y * a1 + v2_y * a2 + v3_z * xa3 = psi2\n",
    "# v1_z * a1 + v2_y * a2 + v3_z * xa3 = psi3\n",
    "A = np.array ([[v[0][0], v[1][0], v[2][0]], \n",
    "               [v[0][1], v[1][1], v[2][1]], \n",
    "               [v[0][2], v[1][2], v[2][2]]]) # A representa la matriz de coeficientes\n",
    "b = np.array ([psi0[0], psi0[1], psi0[2]]) # b representa una columna constante\n",
    "print(\"A\",A)\n",
    "print(\"b\",b)\n",
    "a = linalg.solve(A, b)\n",
    "print(\"a\",a)"
   ]
  },
  {
   "cell_type": "code",
   "execution_count": 4,
   "id": "c7db582e",
   "metadata": {},
   "outputs": [],
   "source": [
    "file = open(\"results_linear_reform.txt\", \"w\")\n",
    "writer = csv.writer(file, delimiter=' ')\n",
    "\n",
    "#------\n",
    "theta = np.zeros(N)\n",
    "psi = np.zeros(N,dtype=complex)\n",
    "#-----\n",
    "\n",
    "t0 = 0.\n",
    "dt = 0.0001\n",
    "steps = 100000\n",
    "for n in range(steps): \n",
    "    t = t0 + n*dt # time\n",
    "    psi=0.0+0.0j\n",
    "    for j in range(N):\n",
    "        psi += a[j]*v[j]*np.exp(lambdas[j]*t)\n",
    "        \n",
    "    for i in range(len(theta)):\n",
    "         theta[i]=np.angle(psi[i])\n",
    "\n",
    "   # Another option\n",
    "   #     if (np.imag(psi[i]) > 0):\n",
    "   #         if (np.real(psi[i]) > 0):\n",
    "   #             theta[i]=np.arctan(np.imag(psi[i])/np.real(psi)[i])\n",
    "   #         else:\n",
    "   #             theta[i]=np.arctan(np.imag(psi[i])/np.real(psi[i]))+np.pi\n",
    "\n",
    "   #     else:\n",
    "   #         if (np.real(psi[i]) > 0):\n",
    "   #             theta[i]=np.arctan(np.imag(psi[i])/np.real(psi[i]))\n",
    "   #         else:\n",
    "   #             theta[i]=np.arctan(np.imag(psi[i])/np.real(psi[i]))-np.pi\n",
    "    \n",
    "       \n",
    "    for i in range(len(theta)):\n",
    "        # We limit the solution between -pi and pi   \n",
    "        if np.pi < theta[i] < 2*np.pi:\n",
    "            theta[i] = theta[i] - 2*np.pi\n",
    "        if -np.pi < theta[i] < -2*np.pi:\n",
    "            theta[i] = theta[i] + 2*np.pi         \n",
    "    r = abs(sync_order_parameter(N, theta)) # modulus of the sync order parameter\n",
    "    writer.writerow((\"{:.4f}\".format(t), \n",
    "                    \"{:.6f}\".format(psi[0]), \"{:.6f}\".format(psi[1]), \"{:.6f}\".format(psi[2]),\n",
    "                    \"{:.6f}\".format(theta[0]), \"{:.6f}\".format(theta[1]), \"{:.6f}\".format(theta[2]), \n",
    "                    \"{:.12f}\".format(r)))\n",
    "file.close()        "
   ]
  },
  {
   "cell_type": "markdown",
   "id": "067bb8cc",
   "metadata": {},
   "source": [
    "**DATA PROCESSING**"
   ]
  },
  {
   "cell_type": "code",
   "execution_count": 5,
   "id": "2ccbcb76",
   "metadata": {},
   "outputs": [],
   "source": [
    "N = 3 # number of oscillators\n",
    "steps = 100000\n",
    "\n",
    "time = np.zeros(steps)\n",
    "psi= np.zeros((steps,N))\n",
    "theta = np.zeros((steps,N))\n",
    "order_p = np.zeros(steps)\n",
    "\n",
    "lines = 0 # counter\n",
    "with open(\"results_linear_reform.txt\",\"r\") as file1:\n",
    "    for line in file1:\n",
    "        line = line.split(' ')\n",
    "        time[lines] = float(line[0])\n",
    "        #psi[lines]=complex(line[1:4:])\n",
    "        theta[lines]=line[4:7:]\n",
    "        order_p[lines]=line[7]\n",
    "        lines+=1 "
   ]
  },
  {
   "cell_type": "code",
   "execution_count": 6,
   "id": "b969fcce",
   "metadata": {},
   "outputs": [
    {
     "data": {
      "image/png": "[encoded data removed]",
      "text/plain": [
       "<Figure size 450x315 with 1 Axes>"
      ]
     },
     "metadata": {
      "needs_background": "light"
     },
     "output_type": "display_data"
    }
   ],
   "source": [
    "plt.figure(figsize=(5,3.5), dpi=90)\n",
    "\n",
    "plt.ylabel(r'$\\theta_{i} \\ (rad)$', fontsize=12)\n",
    "plt.xlabel('Time', fontsize=12)\n",
    "plt.plot(time,theta[:,0], label=r'$\\theta_{1}$')  \n",
    "plt.plot(time,theta[:,1], label=r'$\\theta_{2}$') \n",
    "plt.plot(time,theta[:,2], label=r'$\\theta_{3}$') \n",
    "plt.legend(loc='lower right')\n",
    "plt.ylim((-np.pi,np.pi))\n",
    "plt.xlim((0,5))\n",
    "plt.xticks(fontsize=10)\n",
    "plt.yticks(fontsize=10)\n",
    "plt.tight_layout()\n",
    "plt.savefig('linear_reform.png')\n",
    "plt.show()"
   ]
  },
  {
   "cell_type": "code",
   "execution_count": null,
   "id": "a65e46b2",
   "metadata": {},
   "outputs": [],
   "source": []
  }
 ],
 "metadata": {
  "kernelspec": {
   "display_name": "Python 3",
   "language": "python",
   "name": "python3"
  },
  "language_info": {
   "codemirror_mode": {
    "name": "ipython",
    "version": 3
   },
   "file_extension": ".py",
   "mimetype": "text/x-python",
   "name": "python",
   "nbconvert_exporter": "python",
   "pygments_lexer": "ipython3",
   "version": "3.8.8"
  }
 },
 "nbformat": 4,
 "nbformat_minor": 5
}
